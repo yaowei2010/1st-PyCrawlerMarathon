{
 "cells": [
  {
   "cell_type": "markdown",
   "metadata": {},
   "source": [
    "# API 資料串接 - 以 知乎 API 實作範例\n",
    "\n",
    "\n",
    "\n",
    "* 了解知乎 API 使用方式與回傳內容\n",
    "* 撰寫程式存取 API 且添加標頭\n",
    "\n",
    "\n"
   ]
  },
  {
   "cell_type": "markdown",
   "metadata": {},
   "source": [
    "## 作業目標\n",
    "\n",
    "* 根據範例提供的 API ，完成以下問題：\n",
    "\n",
    "    1. 取出知乎問題發問時間\n",
    "    2. 取出第一筆與最後一筆回答的時間\n"
   ]
  },
  {
   "cell_type": "markdown",
   "metadata": {},
   "source": [
    "### 1. 取出知乎問題發問時間"
   ]
  },
  {
   "cell_type": "code",
   "execution_count": 12,
   "metadata": {},
   "outputs": [
    {
     "data": {
      "text/html": [
       "<div>\n",
       "<style scoped>\n",
       "    .dataframe tbody tr th:only-of-type {\n",
       "        vertical-align: middle;\n",
       "    }\n",
       "\n",
       "    .dataframe tbody tr th {\n",
       "        vertical-align: top;\n",
       "    }\n",
       "\n",
       "    .dataframe thead th {\n",
       "        text-align: right;\n",
       "    }\n",
       "</style>\n",
       "<table border=\"1\" class=\"dataframe\">\n",
       "  <thead>\n",
       "    <tr style=\"text-align: right;\">\n",
       "      <th></th>\n",
       "      <th>id</th>\n",
       "      <th>type</th>\n",
       "      <th>answer_type</th>\n",
       "      <th>question</th>\n",
       "      <th>author</th>\n",
       "      <th>url</th>\n",
       "      <th>is_collapsed</th>\n",
       "      <th>created_time</th>\n",
       "      <th>updated_time</th>\n",
       "      <th>extras</th>\n",
       "      <th>is_copyable</th>\n",
       "      <th>relationship</th>\n",
       "    </tr>\n",
       "  </thead>\n",
       "  <tbody>\n",
       "    <tr>\n",
       "      <td>0</td>\n",
       "      <td>683070334</td>\n",
       "      <td>answer</td>\n",
       "      <td>normal</td>\n",
       "      <td>{'type': 'question', 'id': 55493026, 'title': ...</td>\n",
       "      <td>{'id': '36f69162230003d316d0b8a6d8da20ba', 'ur...</td>\n",
       "      <td>https://www.zhihu.com/api/v4/answers/683070334</td>\n",
       "      <td>False</td>\n",
       "      <td>1557824412</td>\n",
       "      <td>1557824412</td>\n",
       "      <td></td>\n",
       "      <td>True</td>\n",
       "      <td>{'upvoted_followees': []}</td>\n",
       "    </tr>\n",
       "    <tr>\n",
       "      <td>1</td>\n",
       "      <td>637938925</td>\n",
       "      <td>answer</td>\n",
       "      <td>normal</td>\n",
       "      <td>{'type': 'question', 'id': 55493026, 'title': ...</td>\n",
       "      <td>{'id': 'e8c4768eaa41e3749f7e8bc5ac6aa74b', 'ur...</td>\n",
       "      <td>https://www.zhihu.com/api/v4/answers/637938925</td>\n",
       "      <td>False</td>\n",
       "      <td>1554085028</td>\n",
       "      <td>1558451618</td>\n",
       "      <td></td>\n",
       "      <td>True</td>\n",
       "      <td>{'upvoted_followees': []}</td>\n",
       "    </tr>\n",
       "    <tr>\n",
       "      <td>2</td>\n",
       "      <td>163642949</td>\n",
       "      <td>answer</td>\n",
       "      <td>normal</td>\n",
       "      <td>{'type': 'question', 'id': 55493026, 'title': ...</td>\n",
       "      <td>{'id': '788f207a6bf8f66c5bad79bd0f011065', 'ur...</td>\n",
       "      <td>https://www.zhihu.com/api/v4/answers/163642949</td>\n",
       "      <td>False</td>\n",
       "      <td>1493707703</td>\n",
       "      <td>1493708357</td>\n",
       "      <td></td>\n",
       "      <td>False</td>\n",
       "      <td>{'upvoted_followees': []}</td>\n",
       "    </tr>\n",
       "    <tr>\n",
       "      <td>3</td>\n",
       "      <td>163537026</td>\n",
       "      <td>answer</td>\n",
       "      <td>normal</td>\n",
       "      <td>{'type': 'question', 'id': 55493026, 'title': ...</td>\n",
       "      <td>{'id': 'eaf435b228ce0b038a4afe8203f59b49', 'ur...</td>\n",
       "      <td>https://www.zhihu.com/api/v4/answers/163537026</td>\n",
       "      <td>False</td>\n",
       "      <td>1493693113</td>\n",
       "      <td>1555137867</td>\n",
       "      <td></td>\n",
       "      <td>True</td>\n",
       "      <td>{'upvoted_followees': []}</td>\n",
       "    </tr>\n",
       "    <tr>\n",
       "      <td>4</td>\n",
       "      <td>873825546</td>\n",
       "      <td>answer</td>\n",
       "      <td>normal</td>\n",
       "      <td>{'type': 'question', 'id': 55493026, 'title': ...</td>\n",
       "      <td>{'id': '4d1c2c77bc7431c2a6006d154198e8b9', 'ur...</td>\n",
       "      <td>https://www.zhihu.com/api/v4/answers/873825546</td>\n",
       "      <td>False</td>\n",
       "      <td>1572318426</td>\n",
       "      <td>1574756054</td>\n",
       "      <td></td>\n",
       "      <td>False</td>\n",
       "      <td>{'upvoted_followees': []}</td>\n",
       "    </tr>\n",
       "  </tbody>\n",
       "</table>\n",
       "</div>"
      ],
      "text/plain": [
       "          id    type answer_type  \\\n",
       "0  683070334  answer      normal   \n",
       "1  637938925  answer      normal   \n",
       "2  163642949  answer      normal   \n",
       "3  163537026  answer      normal   \n",
       "4  873825546  answer      normal   \n",
       "\n",
       "                                            question  \\\n",
       "0  {'type': 'question', 'id': 55493026, 'title': ...   \n",
       "1  {'type': 'question', 'id': 55493026, 'title': ...   \n",
       "2  {'type': 'question', 'id': 55493026, 'title': ...   \n",
       "3  {'type': 'question', 'id': 55493026, 'title': ...   \n",
       "4  {'type': 'question', 'id': 55493026, 'title': ...   \n",
       "\n",
       "                                              author  \\\n",
       "0  {'id': '36f69162230003d316d0b8a6d8da20ba', 'ur...   \n",
       "1  {'id': 'e8c4768eaa41e3749f7e8bc5ac6aa74b', 'ur...   \n",
       "2  {'id': '788f207a6bf8f66c5bad79bd0f011065', 'ur...   \n",
       "3  {'id': 'eaf435b228ce0b038a4afe8203f59b49', 'ur...   \n",
       "4  {'id': '4d1c2c77bc7431c2a6006d154198e8b9', 'ur...   \n",
       "\n",
       "                                              url  is_collapsed  created_time  \\\n",
       "0  https://www.zhihu.com/api/v4/answers/683070334         False    1557824412   \n",
       "1  https://www.zhihu.com/api/v4/answers/637938925         False    1554085028   \n",
       "2  https://www.zhihu.com/api/v4/answers/163642949         False    1493707703   \n",
       "3  https://www.zhihu.com/api/v4/answers/163537026         False    1493693113   \n",
       "4  https://www.zhihu.com/api/v4/answers/873825546         False    1572318426   \n",
       "\n",
       "   updated_time extras  is_copyable               relationship  \n",
       "0    1557824412                True  {'upvoted_followees': []}  \n",
       "1    1558451618                True  {'upvoted_followees': []}  \n",
       "2    1493708357               False  {'upvoted_followees': []}  \n",
       "3    1555137867                True  {'upvoted_followees': []}  \n",
       "4    1574756054               False  {'upvoted_followees': []}  "
      ]
     },
     "execution_count": 12,
     "metadata": {},
     "output_type": "execute_result"
    }
   ],
   "source": [
    "import requests\n",
    "headers = {'user-agent': 'my-app/0.0.1'}\n",
    "r = requests.get('https://www.zhihu.com/api/v4/questions/55493026/answers',headers=headers)\n",
    "response = r.text\n",
    "\n",
    "import pandas as pd\n",
    "df = pd.DataFrame.from_dict(data['data'])\n",
    "\n",
    "df.head()\n",
    "\n",
    "\n",
    "\n",
    "\n"
   ]
  },
  {
   "cell_type": "code",
   "execution_count": 15,
   "metadata": {},
   "outputs": [
    {
     "name": "stdout",
     "output_type": "stream",
     "text": [
      "2017-02-06 14:10:29\n"
     ]
    }
   ],
   "source": [
    "from datetime import datetime\n",
    "df_1 = pd.DataFrame(df['question'].values.tolist())\n",
    "t = datetime.utcfromtimestamp(df_1.iloc[0]['created'])\n",
    "print(t)"
   ]
  },
  {
   "cell_type": "markdown",
   "metadata": {},
   "source": [
    "### 2. 取出第一筆與最後一筆回答的時間"
   ]
  },
  {
   "cell_type": "code",
   "execution_count": 18,
   "metadata": {},
   "outputs": [
    {
     "name": "stdout",
     "output_type": "stream",
     "text": [
      "2019-05-14 09:00:12\n",
      "2019-10-29 03:07:06\n"
     ]
    }
   ],
   "source": [
    "df_2 = pd.DataFrame(df['created_time'].values.tolist())\n",
    "print(datetime.utcfromtimestamp(df_2.iloc[0]))\n",
    "\n",
    "print(datetime.utcfromtimestamp(df_2.iloc[-1]))\n"
   ]
  },
  {
   "cell_type": "code",
   "execution_count": null,
   "metadata": {},
   "outputs": [],
   "source": []
  },
  {
   "cell_type": "code",
   "execution_count": null,
   "metadata": {},
   "outputs": [],
   "source": []
  },
  {
   "cell_type": "code",
   "execution_count": null,
   "metadata": {},
   "outputs": [],
   "source": []
  },
  {
   "cell_type": "code",
   "execution_count": null,
   "metadata": {},
   "outputs": [],
   "source": []
  }
 ],
 "metadata": {
  "kernelspec": {
   "display_name": "Python 3",
   "language": "python",
   "name": "python3"
  },
  "language_info": {
   "codemirror_mode": {
    "name": "ipython",
    "version": 3
   },
   "file_extension": ".py",
   "mimetype": "text/x-python",
   "name": "python",
   "nbconvert_exporter": "python",
   "pygments_lexer": "ipython3",
   "version": "3.6.9"
  }
 },
 "nbformat": 4,
 "nbformat_minor": 2
}
